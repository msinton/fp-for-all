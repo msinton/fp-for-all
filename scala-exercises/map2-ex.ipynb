{
 "cells": [
  {
   "cell_type": "code",
   "execution_count": 1,
   "metadata": {},
   "outputs": [
    {
     "data": {
      "text/plain": [
       "\u001b[32mimport \u001b[39m\u001b[36m$ivy.$                                  \u001b[39m"
      ]
     },
     "execution_count": 1,
     "metadata": {},
     "output_type": "execute_result"
    }
   ],
   "source": [
    "import $ivy.`org.typelevel::cats-core:2.0.0-M4`"
   ]
  },
  {
   "cell_type": "code",
   "execution_count": 2,
   "metadata": {},
   "outputs": [
    {
     "data": {
      "text/plain": [
       "\u001b[32mimport \u001b[39m\u001b[36mcats._\n",
       "\u001b[39m\n",
       "\u001b[32mimport \u001b[39m\u001b[36mcats.implicits._\u001b[39m"
      ]
     },
     "execution_count": 2,
     "metadata": {},
     "output_type": "execute_result"
    }
   ],
   "source": [
    "import cats._\n",
    "import cats.implicits._"
   ]
  },
  {
   "cell_type": "markdown",
   "metadata": {},
   "source": [
    "### Ex 1. Combine options with map2\n",
    "\n",
    "given a name and an age return:\n",
    "\n",
    "    Some(\"<name> is <age> years old\")\n",
    "    \n",
    "\n",
    "FYI:\n",
    "\n",
    "_cats gives an Option[A] the Typeclass Applicative, with map2:_\n",
    "\n",
    "    def map2[B,C](that: Option[B])(f: (A, B) => C)\n",
    "    \n",
    "_Alternatively you can use the typeclass directly:_\n",
    "\n",
    "    Applicative[Option].map2(optA, optB)(f)\n",
    "    where f: (A, B) => C"
   ]
  },
  {
   "cell_type": "code",
   "execution_count": 8,
   "metadata": {},
   "outputs": [
    {
     "data": {
      "text/plain": [
       "\u001b[36mname\u001b[39m: \u001b[32mOption\u001b[39m[\u001b[32mString\u001b[39m] = \u001b[33mSome\u001b[39m(\u001b[32m\"Bob\"\u001b[39m)\n",
       "\u001b[36mage\u001b[39m: \u001b[32mOption\u001b[39m[\u001b[32mInt\u001b[39m] = \u001b[33mSome\u001b[39m(\u001b[32m44\u001b[39m)"
      ]
     },
     "execution_count": 8,
     "metadata": {},
     "output_type": "execute_result"
    }
   ],
   "source": [
    "val name = Option(\"Bob\")\n",
    "val age = Option(44)"
   ]
  },
  {
   "cell_type": "code",
   "execution_count": null,
   "metadata": {},
   "outputs": [],
   "source": []
  },
  {
   "cell_type": "markdown",
   "metadata": {},
   "source": [
    "#### Ex 1.b What happens when either age or name is None?"
   ]
  },
  {
   "cell_type": "code",
   "execution_count": null,
   "metadata": {},
   "outputs": [],
   "source": [
    "val age: Option[Int] = None"
   ]
  },
  {
   "cell_type": "code",
   "execution_count": null,
   "metadata": {},
   "outputs": [],
   "source": []
  },
  {
   "cell_type": "markdown",
   "metadata": {},
   "source": [
    "### Ex 2. Combine eithers with map2\n",
    "\n",
    "given a name and an age return:\n",
    "\n",
    "    Right(\"<name> is <age> years old\")"
   ]
  },
  {
   "cell_type": "code",
   "execution_count": 5,
   "metadata": {},
   "outputs": [
    {
     "data": {
      "text/plain": [
       "defined \u001b[32mtype\u001b[39m \u001b[36mErrOr\u001b[39m\n",
       "\u001b[36mname\u001b[39m: \u001b[32mErrOr\u001b[39m[\u001b[32mString\u001b[39m] = \u001b[33mRight\u001b[39m(\u001b[32m\"Alice\"\u001b[39m)\n",
       "\u001b[36mage\u001b[39m: \u001b[32mErrOr\u001b[39m[\u001b[32mInt\u001b[39m] = \u001b[33mRight\u001b[39m(\u001b[32m44\u001b[39m)"
      ]
     },
     "execution_count": 5,
     "metadata": {},
     "output_type": "execute_result"
    }
   ],
   "source": [
    "type ErrOr[A] = Either[String, A] // because either has 2 type parameters we need to fix 1\n",
    "val name: ErrOr[String] = Right(\"Alice\")\n",
    "val age: ErrOr[Int] = Right(44)"
   ]
  },
  {
   "cell_type": "code",
   "execution_count": null,
   "metadata": {},
   "outputs": [],
   "source": []
  },
  {
   "cell_type": "markdown",
   "metadata": {},
   "source": [
    "#### Ex 2.b What happens when age or name is a Left?"
   ]
  },
  {
   "cell_type": "code",
   "execution_count": 10,
   "metadata": {},
   "outputs": [
    {
     "data": {
      "text/plain": [
       "\u001b[36mage\u001b[39m: \u001b[32mMyEither\u001b[39m[\u001b[32mInt\u001b[39m] = \u001b[33mLeft\u001b[39m(\u001b[32m\"invalid age\"\u001b[39m)"
      ]
     },
     "execution_count": 10,
     "metadata": {},
     "output_type": "execute_result"
    }
   ],
   "source": [
    "val age: ErrOr[Int] = Left(\"invalid age\")"
   ]
  },
  {
   "cell_type": "code",
   "execution_count": null,
   "metadata": {},
   "outputs": [],
   "source": []
  },
  {
   "cell_type": "markdown",
   "metadata": {},
   "source": [
    "### Ex 3. Combine 3 applicatives into their \"product\" (think tuple)\n",
    "\n",
    "return\n",
    "\n",
    "    Some(\"tomato\", \"pepperoni\", \"pineapple\")"
   ]
  },
  {
   "cell_type": "code",
   "execution_count": 11,
   "metadata": {},
   "outputs": [
    {
     "data": {
      "text/plain": [
       "\u001b[36mpizzaBase\u001b[39m: \u001b[32mOption\u001b[39m[\u001b[32mString\u001b[39m] = \u001b[33mSome\u001b[39m(\u001b[32m\"tomato\"\u001b[39m)\n",
       "\u001b[36mtopping1\u001b[39m: \u001b[32mOption\u001b[39m[\u001b[32mString\u001b[39m] = \u001b[33mSome\u001b[39m(\u001b[32m\"pepperoni\"\u001b[39m)\n",
       "\u001b[36mtopping2\u001b[39m: \u001b[32mOption\u001b[39m[\u001b[32mString\u001b[39m] = \u001b[33mSome\u001b[39m(\u001b[32m\"pineapple\"\u001b[39m)"
      ]
     },
     "execution_count": 11,
     "metadata": {},
     "output_type": "execute_result"
    }
   ],
   "source": [
    "val pizzaBase = Option(\"tomato\")\n",
    "val topping1 = Option(\"pepperoni\")\n",
    "val topping2 = Option(\"pineapple\")"
   ]
  },
  {
   "cell_type": "code",
   "execution_count": 15,
   "metadata": {},
   "outputs": [
    {
     "data": {
      "text/plain": [
       "\u001b[36mres14\u001b[39m: \u001b[32mOption\u001b[39m[(\u001b[32mString\u001b[39m, \u001b[32mString\u001b[39m, \u001b[32mString\u001b[39m)] = \u001b[33mSome\u001b[39m(\n",
       "  (\u001b[32m\"tomato\"\u001b[39m, \u001b[32m\"pepperoni\"\u001b[39m, \u001b[32m\"pineapple\"\u001b[39m)\n",
       ")"
      ]
     },
     "execution_count": 15,
     "metadata": {},
     "output_type": "execute_result"
    }
   ],
   "source": [
    "Applicative[Option].map3(pizzaBase, topping1, topping2)((_, _, _))"
   ]
  },
  {
   "cell_type": "code",
   "execution_count": null,
   "metadata": {},
   "outputs": [],
   "source": []
  },
  {
   "cell_type": "markdown",
   "metadata": {},
   "source": [
    "#### Ex 3.b What happens one of these is None?"
   ]
  },
  {
   "cell_type": "code",
   "execution_count": null,
   "metadata": {},
   "outputs": [],
   "source": []
  },
  {
   "cell_type": "markdown",
   "metadata": {},
   "source": [
    "### Ex 4. Lists are applicatives\n",
    "\n",
    "Have a go an"
   ]
  },
  {
   "cell_type": "code",
   "execution_count": null,
   "metadata": {},
   "outputs": [],
   "source": []
  },
  {
   "cell_type": "markdown",
   "metadata": {},
   "source": [
    "### Ex 5. Sequence\n",
    "\n",
    "A list of applicatives can be sequenced to put the whole list into that context.\n",
    "\n",
    "where F is a context\n",
    "\n",
    "    List[F[A]] --> F[List[A]]\n",
    "    \n",
    "Use `sequence` to transform these lists in this way. Do you get what you expect?"
   ]
  },
  {
   "cell_type": "code",
   "execution_count": 7,
   "metadata": {},
   "outputs": [
    {
     "data": {
      "text/plain": [
       "\u001b[36mres6_0\u001b[39m: \u001b[32mOption\u001b[39m[\u001b[32mList\u001b[39m[\u001b[32mInt\u001b[39m]] = \u001b[33mSome\u001b[39m(\u001b[33mList\u001b[39m(\u001b[32m1\u001b[39m, \u001b[32m2\u001b[39m, \u001b[32m2\u001b[39m))\n",
       "\u001b[36mres6_1\u001b[39m: \u001b[32mOption\u001b[39m[\u001b[32mList\u001b[39m[\u001b[32mInt\u001b[39m]] = \u001b[32mNone\u001b[39m\n",
       "\u001b[36meithers\u001b[39m: \u001b[32mList\u001b[39m[\u001b[32mErrOr\u001b[39m[\u001b[32mChar\u001b[39m]] = \u001b[33mList\u001b[39m(\u001b[33mRight\u001b[39m(\u001b[32m'a'\u001b[39m), \u001b[33mRight\u001b[39m(\u001b[32m'b'\u001b[39m), \u001b[33mRight\u001b[39m(\u001b[32m'c'\u001b[39m))\n",
       "\u001b[36mres6_3\u001b[39m: \u001b[32mErrOr\u001b[39m[\u001b[32mList\u001b[39m[\u001b[32mChar\u001b[39m]] = \u001b[33mRight\u001b[39m(\u001b[33mList\u001b[39m(\u001b[32m'a'\u001b[39m, \u001b[32m'b'\u001b[39m, \u001b[32m'c'\u001b[39m))\n",
       "\u001b[36meithers_2\u001b[39m: \u001b[32mList\u001b[39m[\u001b[32mErrOr\u001b[39m[\u001b[32mChar\u001b[39m]] = \u001b[33mList\u001b[39m(\u001b[33mRight\u001b[39m(\u001b[32m'a'\u001b[39m), \u001b[33mLeft\u001b[39m(\u001b[32m\"oops\"\u001b[39m), \u001b[33mRight\u001b[39m(\u001b[32m'c'\u001b[39m))\n",
       "\u001b[36mres6_5\u001b[39m: \u001b[32mErrOr\u001b[39m[\u001b[32mList\u001b[39m[\u001b[32mChar\u001b[39m]] = \u001b[33mLeft\u001b[39m(\u001b[32m\"oops\"\u001b[39m)"
      ]
     },
     "execution_count": 7,
     "metadata": {},
     "output_type": "execute_result"
    }
   ],
   "source": [
    "List(Option(1), Option(2), Option(2))\n",
    "List(Option(1), Option.empty[Int], Option(2))\n",
    "val eithers: List[ErrOr[Char]] = List(Right('a'), Right('b'), Right('c'))\n",
    "val eithers_2: List[ErrOr[Char]] = List(Right('a'), Left(\"oops\"), Right('c'))"
   ]
  },
  {
   "cell_type": "code",
   "execution_count": null,
   "metadata": {},
   "outputs": [],
   "source": []
  }
 ],
 "metadata": {
  "kernelspec": {
   "display_name": "Scala (2.11)",
   "language": "scala",
   "name": "scala211"
  },
  "language_info": {
   "codemirror_mode": "text/x-scala",
   "file_extension": ".scala",
   "mimetype": "text/x-scala",
   "name": "scala",
   "nbconvert_exporter": "script",
   "version": "2.11.12"
  }
 },
 "nbformat": 4,
 "nbformat_minor": 2
}
